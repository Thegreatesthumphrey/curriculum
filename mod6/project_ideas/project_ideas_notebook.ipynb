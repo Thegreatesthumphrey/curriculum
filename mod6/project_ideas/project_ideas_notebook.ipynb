{
 "cells": [
  {
   "cell_type": "code",
   "execution_count": 1,
   "metadata": {},
   "outputs": [],
   "source": [
    "import pandas as pd"
   ]
  },
  {
   "cell_type": "code",
   "execution_count": 3,
   "metadata": {},
   "outputs": [],
   "source": [
    "df = pd.read_csv('data/tripadvisor_merged.csv')"
   ]
  },
  {
   "cell_type": "code",
   "execution_count": 4,
   "metadata": {},
   "outputs": [
    {
     "data": {
      "text/html": [
       "<div>\n",
       "<style scoped>\n",
       "    .dataframe tbody tr th:only-of-type {\n",
       "        vertical-align: middle;\n",
       "    }\n",
       "\n",
       "    .dataframe tbody tr th {\n",
       "        vertical-align: top;\n",
       "    }\n",
       "\n",
       "    .dataframe thead th {\n",
       "        text-align: right;\n",
       "    }\n",
       "</style>\n",
       "<table border=\"1\" class=\"dataframe\">\n",
       "  <thead>\n",
       "    <tr style=\"text-align: right;\">\n",
       "      <th></th>\n",
       "      <th>Unnamed: 0</th>\n",
       "      <th>Address</th>\n",
       "      <th>Description</th>\n",
       "      <th>FeatureCount</th>\n",
       "      <th>Fee</th>\n",
       "      <th>Langtitude</th>\n",
       "      <th>Latitude</th>\n",
       "      <th>LengthOfVisit</th>\n",
       "      <th>MuseumName</th>\n",
       "      <th>PhoneNum</th>\n",
       "      <th>...</th>\n",
       "      <th>review_pol_var</th>\n",
       "      <th>review_pol_mean</th>\n",
       "      <th>review_pol_max</th>\n",
       "      <th>review_pol_min</th>\n",
       "      <th>review_sub_var</th>\n",
       "      <th>review_sub_mean</th>\n",
       "      <th>review_sub_max</th>\n",
       "      <th>review_sub_min</th>\n",
       "      <th>descri_pol</th>\n",
       "      <th>descri_sub</th>\n",
       "    </tr>\n",
       "  </thead>\n",
       "  <tbody>\n",
       "    <tr>\n",
       "      <th>0</th>\n",
       "      <td>0</td>\n",
       "      <td>555 Pennsylvania Ave NW, Washington DC, DC 200...</td>\n",
       "      <td>Find out for yourself why everyone is calling ...</td>\n",
       "      <td>3.0</td>\n",
       "      <td>Yes</td>\n",
       "      <td>-77.019235</td>\n",
       "      <td>38.893138</td>\n",
       "      <td>2-3 hours</td>\n",
       "      <td>Newseum</td>\n",
       "      <td>+1 888-639-7386</td>\n",
       "      <td>...</td>\n",
       "      <td>0.023760</td>\n",
       "      <td>0.334677</td>\n",
       "      <td>0.611111</td>\n",
       "      <td>0.000000</td>\n",
       "      <td>0.014521</td>\n",
       "      <td>0.509036</td>\n",
       "      <td>0.754861</td>\n",
       "      <td>0.342857</td>\n",
       "      <td>0.490000</td>\n",
       "      <td>0.506667</td>\n",
       "    </tr>\n",
       "    <tr>\n",
       "      <th>1</th>\n",
       "      <td>4</td>\n",
       "      <td>1000 5th Ave, New York City, NY 10028-0198</td>\n",
       "      <td>At New York City's most visited museum and att...</td>\n",
       "      <td>12.0</td>\n",
       "      <td>Yes</td>\n",
       "      <td>-73.962928</td>\n",
       "      <td>40.779166</td>\n",
       "      <td>2-3 hours</td>\n",
       "      <td>The Metropolitan Museum of Art</td>\n",
       "      <td>1 212-535-7710</td>\n",
       "      <td>...</td>\n",
       "      <td>0.018057</td>\n",
       "      <td>0.318339</td>\n",
       "      <td>0.634375</td>\n",
       "      <td>0.127083</td>\n",
       "      <td>0.018280</td>\n",
       "      <td>0.537971</td>\n",
       "      <td>0.700000</td>\n",
       "      <td>0.291667</td>\n",
       "      <td>0.318182</td>\n",
       "      <td>0.477273</td>\n",
       "    </tr>\n",
       "    <tr>\n",
       "      <th>2</th>\n",
       "      <td>5</td>\n",
       "      <td>945 Magazine Street, New Orleans, LA 70130-3813</td>\n",
       "      <td>Founded by historian and author, Stephen Ambro...</td>\n",
       "      <td>11.0</td>\n",
       "      <td>NaN</td>\n",
       "      <td>-90.070086</td>\n",
       "      <td>29.943004</td>\n",
       "      <td>NaN</td>\n",
       "      <td>The National WWII Museum</td>\n",
       "      <td>+1 504-528-1944</td>\n",
       "      <td>...</td>\n",
       "      <td>0.010222</td>\n",
       "      <td>0.333493</td>\n",
       "      <td>0.500000</td>\n",
       "      <td>0.140783</td>\n",
       "      <td>0.019100</td>\n",
       "      <td>0.508205</td>\n",
       "      <td>0.804861</td>\n",
       "      <td>0.333333</td>\n",
       "      <td>0.000000</td>\n",
       "      <td>0.000000</td>\n",
       "    </tr>\n",
       "    <tr>\n",
       "      <th>3</th>\n",
       "      <td>6</td>\n",
       "      <td>2001 N Colorado Blvd, Denver, CO 80205-5798</td>\n",
       "      <td>The Denver Museum of Nature &amp; Science is the R...</td>\n",
       "      <td>0.0</td>\n",
       "      <td>NaN</td>\n",
       "      <td>-104.941020</td>\n",
       "      <td>39.769189</td>\n",
       "      <td>NaN</td>\n",
       "      <td>Denver Museum of Nature &amp; Science</td>\n",
       "      <td>303-370-6000</td>\n",
       "      <td>...</td>\n",
       "      <td>0.022625</td>\n",
       "      <td>0.429964</td>\n",
       "      <td>0.664286</td>\n",
       "      <td>0.192262</td>\n",
       "      <td>0.014845</td>\n",
       "      <td>0.584561</td>\n",
       "      <td>0.783333</td>\n",
       "      <td>0.438095</td>\n",
       "      <td>0.100000</td>\n",
       "      <td>0.400000</td>\n",
       "    </tr>\n",
       "    <tr>\n",
       "      <th>4</th>\n",
       "      <td>7</td>\n",
       "      <td>111 S Michigan Ave, Chicago, IL 60603-6488</td>\n",
       "      <td>This Classical Renaissance structure, guarded ...</td>\n",
       "      <td>5.0</td>\n",
       "      <td>Yes</td>\n",
       "      <td>-87.623724</td>\n",
       "      <td>41.879547</td>\n",
       "      <td>More than 3 hours</td>\n",
       "      <td>Art Institute of Chicago</td>\n",
       "      <td>312 443 3600</td>\n",
       "      <td>...</td>\n",
       "      <td>0.030203</td>\n",
       "      <td>0.299117</td>\n",
       "      <td>0.681333</td>\n",
       "      <td>0.125000</td>\n",
       "      <td>0.025380</td>\n",
       "      <td>0.530728</td>\n",
       "      <td>0.788333</td>\n",
       "      <td>0.266667</td>\n",
       "      <td>0.300000</td>\n",
       "      <td>0.337500</td>\n",
       "    </tr>\n",
       "  </tbody>\n",
       "</table>\n",
       "<p>5 rows × 224 columns</p>\n",
       "</div>"
      ],
      "text/plain": [
       "   Unnamed: 0                                            Address  \\\n",
       "0           0  555 Pennsylvania Ave NW, Washington DC, DC 200...   \n",
       "1           4         1000 5th Ave, New York City, NY 10028-0198   \n",
       "2           5    945 Magazine Street, New Orleans, LA 70130-3813   \n",
       "3           6        2001 N Colorado Blvd, Denver, CO 80205-5798   \n",
       "4           7         111 S Michigan Ave, Chicago, IL 60603-6488   \n",
       "\n",
       "                                         Description  FeatureCount   Fee  \\\n",
       "0  Find out for yourself why everyone is calling ...           3.0  Yes    \n",
       "1  At New York City's most visited museum and att...          12.0  Yes    \n",
       "2  Founded by historian and author, Stephen Ambro...          11.0   NaN   \n",
       "3  The Denver Museum of Nature & Science is the R...           0.0   NaN   \n",
       "4  This Classical Renaissance structure, guarded ...           5.0  Yes    \n",
       "\n",
       "   Langtitude   Latitude       LengthOfVisit  \\\n",
       "0  -77.019235  38.893138          2-3 hours    \n",
       "1  -73.962928  40.779166          2-3 hours    \n",
       "2  -90.070086  29.943004                 NaN   \n",
       "3 -104.941020  39.769189                 NaN   \n",
       "4  -87.623724  41.879547  More than 3 hours    \n",
       "\n",
       "                          MuseumName         PhoneNum  ...  review_pol_var  \\\n",
       "0                            Newseum  +1 888-639-7386  ...        0.023760   \n",
       "1     The Metropolitan Museum of Art   1 212-535-7710  ...        0.018057   \n",
       "2           The National WWII Museum  +1 504-528-1944  ...        0.010222   \n",
       "3  Denver Museum of Nature & Science     303-370-6000  ...        0.022625   \n",
       "4           Art Institute of Chicago     312 443 3600  ...        0.030203   \n",
       "\n",
       "   review_pol_mean  review_pol_max  review_pol_min review_sub_var  \\\n",
       "0         0.334677        0.611111        0.000000       0.014521   \n",
       "1         0.318339        0.634375        0.127083       0.018280   \n",
       "2         0.333493        0.500000        0.140783       0.019100   \n",
       "3         0.429964        0.664286        0.192262       0.014845   \n",
       "4         0.299117        0.681333        0.125000       0.025380   \n",
       "\n",
       "  review_sub_mean  review_sub_max  review_sub_min  descri_pol  descri_sub  \n",
       "0        0.509036        0.754861        0.342857    0.490000    0.506667  \n",
       "1        0.537971        0.700000        0.291667    0.318182    0.477273  \n",
       "2        0.508205        0.804861        0.333333    0.000000    0.000000  \n",
       "3        0.584561        0.783333        0.438095    0.100000    0.400000  \n",
       "4        0.530728        0.788333        0.266667    0.300000    0.337500  \n",
       "\n",
       "[5 rows x 224 columns]"
      ]
     },
     "execution_count": 4,
     "metadata": {},
     "output_type": "execute_result"
    }
   ],
   "source": [
    "df.head()"
   ]
  },
  {
   "cell_type": "code",
   "execution_count": 7,
   "metadata": {},
   "outputs": [
    {
     "name": "stdout",
     "output_type": "stream",
     "text": [
      "The National September 11 Memorial & Museum is a place of remembrance honoring those who perished in the terrorist attacks of September 11, 2001 and February 26, 1993. \n"
     ]
    }
   ],
   "source": [
    "print(df.Description[5])"
   ]
  },
  {
   "cell_type": "code",
   "execution_count": 9,
   "metadata": {},
   "outputs": [
    {
     "name": "stdout",
     "output_type": "stream",
     "text": [
      "Index(['Unnamed: 0', 'Address', 'Description', 'FeatureCount', 'Fee',\n",
      "       'Langtitude', 'Latitude', 'LengthOfVisit', 'MuseumName', 'PhoneNum',\n",
      "       ...\n",
      "       'review_pol_var', 'review_pol_mean', 'review_pol_max', 'review_pol_min',\n",
      "       'review_sub_var', 'review_sub_mean', 'review_sub_max', 'review_sub_min',\n",
      "       'descri_pol', 'descri_sub'],\n",
      "      dtype='object', length=224)\n"
     ]
    }
   ],
   "source": [
    "print(df.columns)"
   ]
  },
  {
   "cell_type": "code",
   "execution_count": 10,
   "metadata": {},
   "outputs": [
    {
     "data": {
      "text/plain": [
       "(1603, 224)"
      ]
     },
     "execution_count": 10,
     "metadata": {},
     "output_type": "execute_result"
    }
   ],
   "source": [
    "df.shape"
   ]
  },
  {
   "cell_type": "code",
   "execution_count": null,
   "metadata": {},
   "outputs": [],
   "source": []
  }
 ],
 "metadata": {
  "kernelspec": {
   "display_name": "learn-env",
   "language": "python",
   "name": "learn-env"
  },
  "language_info": {
   "codemirror_mode": {
    "name": "ipython",
    "version": 3
   },
   "file_extension": ".py",
   "mimetype": "text/x-python",
   "name": "python",
   "nbconvert_exporter": "python",
   "pygments_lexer": "ipython3",
   "version": "3.7.3"
  }
 },
 "nbformat": 4,
 "nbformat_minor": 2
}
