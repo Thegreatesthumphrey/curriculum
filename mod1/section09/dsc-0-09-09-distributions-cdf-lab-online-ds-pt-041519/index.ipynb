{
 "cells": [
  {
   "cell_type": "markdown",
   "metadata": {},
   "source": [
    "# The Cumulative Distribution Function (CDF) - Lab\n",
    "\n",
    "## Introduction\n",
    "In the previous lesson we saw how we can use a discrete random variable used for modeling fair die having a uniform probabilities for all possible values. In this lab, we shall try to calculate a cdf for this variable and visualize it for inspection.\n",
    "\n",
    "## Objectives\n",
    "You will be able to:\n",
    "\n",
    "* Calculate the cdf for a given discrete random variable\n",
    "* Visualize the cdf using matplotlib "
   ]
  },
  {
   "cell_type": "markdown",
   "metadata": {},
   "source": [
    "## Calculating CDF in python \n",
    "\n",
    "Recall the formula for calculate the cumulative probability from previous lesson:\n",
    "\n",
    "![](formula.png)\n",
    "\n",
    "So given a list of all possible values of x, We can easily calculate the cdf for a given possible value (X) by performing following steps:\n",
    "\n",
    "* Build a function `calculate_cdf(lst,X)`, where `lst` is a list of all possible values in a discrete variable x (6 values for a die roll), and X is the value for which we want to calculate the cumulative distribution function. \n",
    "* Initialize a count variable\n",
    "* for all values in `lst`, if a value is less than X, add one to count - do nothing otherwise. (this will tell us total number of values less than X) \n",
    "* Calculate the cumulative probability of X dividing the count with total possible values\n",
    "* Round off by 3 decimals and return the cumulative probability of X.  \n"
   ]
  },
  {
   "cell_type": "code",
   "execution_count": 42,
   "metadata": {},
   "outputs": [
    {
     "data": {
      "text/plain": [
       "0.333"
      ]
     },
     "execution_count": 42,
     "metadata": {},
     "output_type": "execute_result"
    }
   ],
   "source": [
    "def calculate_cdf(lst, X):\n",
    "    count = 0\n",
    "    for n in lst:\n",
    "        if n <= X:\n",
    "            count += 1\n",
    "    \n",
    "    result = count/len(lst)\n",
    "    return round(result,3)\n",
    "\n",
    "\n",
    "\n",
    "\n",
    "\n",
    "\n",
    "# test data\n",
    "test_lst = [1,2,3]\n",
    "test_X = 1\n",
    "\n",
    "calculate_cdf(test_lst, test_X)\n",
    "\n",
    "# 0.667"
   ]
  },
  {
   "cell_type": "markdown",
   "metadata": {},
   "source": [
    "Let's now use above function to calculate a cdf for each value in a die roll with an intention of plotting it."
   ]
  },
  {
   "cell_type": "markdown",
   "metadata": {},
   "source": [
    "Perform following steps in the cell below:\n",
    "* Create a list `die_lst` with all possible values of a fair die\n",
    "* Initialize an empty list `die_cum` for storing cumulative probabilities for these values.\n",
    "* For each value in the `die_lst` calculate its cumulative probability using the function above and store in `die_cum` list. "
   ]
  },
  {
   "cell_type": "code",
   "execution_count": 49,
   "metadata": {},
   "outputs": [
    {
     "data": {
      "text/plain": [
       "[0.167, 0.333, 0.5, 0.667, 0.833, 1.0]"
      ]
     },
     "execution_count": 49,
     "metadata": {},
     "output_type": "execute_result"
    }
   ],
   "source": [
    "die_lst = [1,2,3,4,5,6]\n",
    "die_cum = []\n",
    "\n",
    "for n in die_lst:\n",
    "    die_cum.append(calculate_cdf(die_lst,n))\n",
    "die_cum\n",
    "    \n",
    "\n",
    "\n",
    "    \n",
    "\n",
    "# [0.167, 0.333, 0.5, 0.667, 0.833, 1.0]"
   ]
  },
  {
   "cell_type": "markdown",
   "metadata": {},
   "source": [
    "> cdfs are implemented with two sorted lists: xs, which contains the values, and ps, which contains the cumulative probabilities for xs.\n",
    "\n",
    "Following this, we now have a list of possible values, and a second list containing cumulative probabilities for each value. Let's go ahead and plot these values in matplotlib using the stem plot. \n",
    "* Use `die_lst` for x-axis and `die_cum` for y-axis"
   ]
  },
  {
   "cell_type": "code",
   "execution_count": 51,
   "metadata": {},
   "outputs": [
    {
     "data": {
      "text/plain": [
       "<StemContainer object of 3 artists>"
      ]
     },
     "execution_count": 51,
     "metadata": {},
     "output_type": "execute_result"
    },
    {
     "data": {
      "image/png": "[encoded data removed]",
      "text/plain": [
       "<Figure size 432x288 with 1 Axes>"
      ]
     },
     "metadata": {
      "needs_background": "light"
     },
     "output_type": "display_data"
    }
   ],
   "source": [
    "import matplotlib.pyplot as plt\n",
    "\n",
    "plt.stem(die_lst,die_cum,'o''-.')"
   ]
  },
  {
   "cell_type": "markdown",
   "metadata": {},
   "source": [
    "## Level Up (optional)\n",
    "\n",
    "cdfs (and pmfs) can be calculated using built in numpy and matplotlib methods. So we don't have create custom functions to calculate these. We can draw a histogram styled cdf as shown below using following methods. \n",
    "\n",
    "You would need to perform these steps\n",
    "* Use `np.histogram()` to automatically calculate the histogram with probabilities. [Here is numpy histogram documentation](https://docs.scipy.org/doc/numpy/reference/generated/numpy.histogram.html) to help you dig deeper.\n",
    "\n",
    "* Use [`plt.step()`](https://matplotlib.org/api/_as_gen/matplotlib.pyplot.step.html) method with [`np.cumsum()`](https://docs.scipy.org/doc/numpy/reference/generated/numpy.cumsum.html) to calculate and plot cumulative probabilities (just like we did above). \n"
   ]
  },
  {
   "cell_type": "code",
   "execution_count": 39,
   "metadata": {},
   "outputs": [
    {
     "data": {
      "image/png": "[encoded data removed]",
      "text/plain": [
       "<matplotlib.figure.Figure at 0x1155bc6a0>"
      ]
     },
     "metadata": {},
     "output_type": "display_data"
    }
   ],
   "source": []
  },
  {
   "cell_type": "markdown",
   "metadata": {},
   "source": [
    "## Summary \n",
    "\n",
    "In this lesson we looked at developing a cdf a percentile function of a discrete random variable. We looked at how to calculate and visualize a cdf. This technique can also be applied to continuous random variables which we shall see later in this section. "
   ]
  }
 ],
 "metadata": {
  "kernelspec": {
   "display_name": "learn-env",
   "language": "python",
   "name": "learn-env"
  },
  "language_info": {
   "codemirror_mode": {
    "name": "ipython",
    "version": 3
   },
   "file_extension": ".py",
   "mimetype": "text/x-python",
   "name": "python",
   "nbconvert_exporter": "python",
   "pygments_lexer": "ipython3",
   "version": "3.7.3"
  }
 },
 "nbformat": 4,
 "nbformat_minor": 2
}
