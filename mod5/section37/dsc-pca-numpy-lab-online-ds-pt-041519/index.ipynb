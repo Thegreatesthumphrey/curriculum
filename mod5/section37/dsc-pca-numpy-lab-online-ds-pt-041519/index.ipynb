{
 "cells": [
  {
   "cell_type": "markdown",
   "metadata": {},
   "source": [
    "# Performing Principal Component Analysis (PCA) - Lab\n",
    "\n",
    "## Introduction\n",
    "\n",
    "Now that you have high level overview of PCA as well as some of the details in the algorithm itself, its time to practice implementing PCA on your own using the NumPy package. \n",
    "\n",
    "## Objectives\n",
    "\n",
    "You will be able to:\n",
    "    \n",
    "* Implement PCA from scratch using NumPy"
   ]
  },
  {
   "cell_type": "markdown",
   "metadata": {},
   "source": [
    "## Import the Data\n",
    "\n",
    "To start, import the data stored in the file 'foodusa.csv'."
   ]
  },
  {
   "cell_type": "code",
   "execution_count": 6,
   "metadata": {},
   "outputs": [
    {
     "data": {
      "text/html": [
       "<div>\n",
       "<style scoped>\n",
       "    .dataframe tbody tr th:only-of-type {\n",
       "        vertical-align: middle;\n",
       "    }\n",
       "\n",
       "    .dataframe tbody tr th {\n",
       "        vertical-align: top;\n",
       "    }\n",
       "\n",
       "    .dataframe thead th {\n",
       "        text-align: right;\n",
       "    }\n",
       "</style>\n",
       "<table border=\"1\" class=\"dataframe\">\n",
       "  <thead>\n",
       "    <tr style=\"text-align: right;\">\n",
       "      <th></th>\n",
       "      <th>City</th>\n",
       "      <th>Bread</th>\n",
       "      <th>Burger</th>\n",
       "      <th>Milk</th>\n",
       "      <th>Oranges</th>\n",
       "      <th>Tomatoes</th>\n",
       "    </tr>\n",
       "  </thead>\n",
       "  <tbody>\n",
       "    <tr>\n",
       "      <th>0</th>\n",
       "      <td>ATLANTA</td>\n",
       "      <td>24.5</td>\n",
       "      <td>94.5</td>\n",
       "      <td>73.9</td>\n",
       "      <td>80.1</td>\n",
       "      <td>41.6</td>\n",
       "    </tr>\n",
       "    <tr>\n",
       "      <th>1</th>\n",
       "      <td>BALTIMORE</td>\n",
       "      <td>26.5</td>\n",
       "      <td>91.0</td>\n",
       "      <td>67.5</td>\n",
       "      <td>74.6</td>\n",
       "      <td>53.3</td>\n",
       "    </tr>\n",
       "    <tr>\n",
       "      <th>2</th>\n",
       "      <td>BOSTON</td>\n",
       "      <td>29.7</td>\n",
       "      <td>100.8</td>\n",
       "      <td>61.4</td>\n",
       "      <td>104.0</td>\n",
       "      <td>59.6</td>\n",
       "    </tr>\n",
       "    <tr>\n",
       "      <th>3</th>\n",
       "      <td>BUFFALO</td>\n",
       "      <td>22.8</td>\n",
       "      <td>86.6</td>\n",
       "      <td>65.3</td>\n",
       "      <td>118.4</td>\n",
       "      <td>51.2</td>\n",
       "    </tr>\n",
       "    <tr>\n",
       "      <th>4</th>\n",
       "      <td>CHICAGO</td>\n",
       "      <td>26.7</td>\n",
       "      <td>86.7</td>\n",
       "      <td>62.7</td>\n",
       "      <td>105.9</td>\n",
       "      <td>51.2</td>\n",
       "    </tr>\n",
       "  </tbody>\n",
       "</table>\n",
       "</div>"
      ],
      "text/plain": [
       "        City  Bread  Burger  Milk  Oranges  Tomatoes\n",
       "0    ATLANTA   24.5    94.5  73.9     80.1      41.6\n",
       "1  BALTIMORE   26.5    91.0  67.5     74.6      53.3\n",
       "2     BOSTON   29.7   100.8  61.4    104.0      59.6\n",
       "3    BUFFALO   22.8    86.6  65.3    118.4      51.2\n",
       "4    CHICAGO   26.7    86.7  62.7    105.9      51.2"
      ]
     },
     "execution_count": 6,
     "metadata": {},
     "output_type": "execute_result"
    }
   ],
   "source": [
    "import pandas as pd\n",
    "import numpy as np\n",
    "\n",
    "data = pd.read_csv('foodusa.csv')\n",
    "data.head()"
   ]
  },
  {
   "cell_type": "markdown",
   "metadata": {},
   "source": [
    "## Normalize the Data\n",
    "\n",
    "Next, normalize your data by subtracting the feature mean from each of the columns"
   ]
  },
  {
   "cell_type": "code",
   "execution_count": 10,
   "metadata": {},
   "outputs": [],
   "source": [
    "data = data.drop('City',axis=1)"
   ]
  },
  {
   "cell_type": "code",
   "execution_count": 11,
   "metadata": {},
   "outputs": [],
   "source": [
    "mean_centered = data - data.mean()"
   ]
  },
  {
   "cell_type": "markdown",
   "metadata": {},
   "source": [
    "## Calculate the Covariance Matrix\n",
    "\n",
    "The next step for PCA is to calculate to covariance matrix for your normalized data. Do so here."
   ]
  },
  {
   "cell_type": "code",
   "execution_count": 20,
   "metadata": {},
   "outputs": [],
   "source": [
    "cov = np.cov([mean_centered.Bread, mean_centered.Burger, mean_centered.Milk, mean_centered.Oranges, mean_centered.Tomatoes])\n"
   ]
  },
  {
   "cell_type": "code",
   "execution_count": 21,
   "metadata": {},
   "outputs": [
    {
     "data": {
      "text/plain": [
       "array([[  6.2844664 ,  12.91096838,   5.71905138,   1.31037549,\n",
       "          7.28513834],\n",
       "       [ 12.91096838,  57.07711462,  17.50752964,  22.69187747,\n",
       "         36.29478261],\n",
       "       [  5.71905138,  17.50752964,  48.30588933,  -0.27503953,\n",
       "         13.44347826],\n",
       "       [  1.31037549,  22.69187747,  -0.27503953, 202.75628458,\n",
       "         38.76241107],\n",
       "       [  7.28513834,  36.29478261,  13.44347826,  38.76241107,\n",
       "         57.80055336]])"
      ]
     },
     "execution_count": 21,
     "metadata": {},
     "output_type": "execute_result"
    }
   ],
   "source": [
    "cov"
   ]
  },
  {
   "cell_type": "markdown",
   "metadata": {},
   "source": [
    "## Calculate the Eigenvectors\n",
    "\n",
    "Next, calculate the eigenvectors for your covariance matrix."
   ]
  },
  {
   "cell_type": "code",
   "execution_count": 22,
   "metadata": {},
   "outputs": [],
   "source": [
    "eigen_value, eigen_vector = np.linalg.eig(cov)\n"
   ]
  },
  {
   "cell_type": "code",
   "execution_count": 23,
   "metadata": {},
   "outputs": [
    {
     "data": {
      "text/plain": [
       "array([[-0.02848905, -0.16532108, -0.96716354, -0.18972574,  0.02135748],\n",
       "       [-0.2001224 , -0.63218494,  0.24877074, -0.65862454,  0.25420475],\n",
       "       [-0.0416723 , -0.44215032,  0.03606094,  0.10765906, -0.88874949],\n",
       "       [-0.93885906,  0.31435473, -0.01521357, -0.06904699, -0.12135003],\n",
       "       [-0.27558389, -0.52791603, -0.03429221,  0.71684022,  0.36100184]])"
      ]
     },
     "execution_count": 23,
     "metadata": {},
     "output_type": "execute_result"
    }
   ],
   "source": [
    "eigen_vector"
   ]
  },
  {
   "cell_type": "code",
   "execution_count": 24,
   "metadata": {},
   "outputs": [
    {
     "data": {
      "text/plain": [
       "array([218.99867893,  91.72316894,   3.02922934,  20.81054128,\n",
       "        37.66268981])"
      ]
     },
     "execution_count": 24,
     "metadata": {},
     "output_type": "execute_result"
    }
   ],
   "source": [
    "eigen_value\n",
    "#highest: first"
   ]
  },
  {
   "cell_type": "markdown",
   "metadata": {},
   "source": [
    "## Sorting the Eigenvectors to Determine Primary Components\n",
    "\n",
    "Great! Now that you have the eigenvectors and their associated eigenvalues, sort the eigenvectors based on their eigenvalues!"
   ]
  },
  {
   "cell_type": "code",
   "execution_count": 26,
   "metadata": {},
   "outputs": [
    {
     "data": {
      "text/plain": [
       "array([[-0.02848905, -0.16532108,  0.02135748, -0.18972574, -0.96716354],\n",
       "       [-0.2001224 , -0.63218494,  0.25420475, -0.65862454,  0.24877074],\n",
       "       [-0.0416723 , -0.44215032, -0.88874949,  0.10765906,  0.03606094],\n",
       "       [-0.93885906,  0.31435473, -0.12135003, -0.06904699, -0.01521357],\n",
       "       [-0.27558389, -0.52791603,  0.36100184,  0.71684022, -0.03429221]])"
      ]
     },
     "execution_count": 26,
     "metadata": {},
     "output_type": "execute_result"
    }
   ],
   "source": [
    "e_indices = np.argsort(eigen_value)[::-1] #Get the index values of the sorted eigenvalues\n",
    "eigenvectors_sorted = eigen_vector[:,e_indices]\n",
    "eigenvectors_sorted\n"
   ]
  },
  {
   "cell_type": "markdown",
   "metadata": {},
   "source": [
    "## Reprojecting the Data\n",
    "\n",
    "Finally, reproject the dataset using your eigenvectors. Reproject the dataset down to 2 dimensions."
   ]
  },
  {
   "cell_type": "code",
   "execution_count": 29,
   "metadata": {},
   "outputs": [
    {
     "data": {
      "text/plain": [
       "array([[-0.02848905, -0.16532108,  0.02135748, -0.18972574, -0.96716354],\n",
       "       [-0.2001224 , -0.63218494,  0.25420475, -0.65862454,  0.24877074]])"
      ]
     },
     "execution_count": 29,
     "metadata": {},
     "output_type": "execute_result"
    }
   ],
   "source": [
    "eigenvectors_sorted[:2]\n"
   ]
  },
  {
   "cell_type": "markdown",
   "metadata": {},
   "source": [
    "## Summary\n",
    "\n",
    "Well done! You've now coded PCA on your own using NumPy! With that, it's time to look at further application of PCA."
   ]
  }
 ],
 "metadata": {
  "kernelspec": {
   "display_name": "learn-env",
   "language": "python",
   "name": "learn-env"
  },
  "language_info": {
   "codemirror_mode": {
    "name": "ipython",
    "version": 3
   },
   "file_extension": ".py",
   "mimetype": "text/x-python",
   "name": "python",
   "nbconvert_exporter": "python",
   "pygments_lexer": "ipython3",
   "version": "3.7.3"
  }
 },
 "nbformat": 4,
 "nbformat_minor": 2
}
