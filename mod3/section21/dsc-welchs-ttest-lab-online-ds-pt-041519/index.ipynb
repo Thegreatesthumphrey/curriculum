{
 "cells": [
  {
   "cell_type": "markdown",
   "metadata": {},
   "source": [
    "# Welch's T-test - Lab\n",
    "\n",
    "## Introduction \n",
    "\n",
    "Now that you've gotten a brief introduction to Welch's T-test, it's time to practice your NumPy and math programming skills to write your own Welch's T-test function! \n",
    "\n",
    "## Objectives\n",
    "You will be able to:\n",
    "* Write a function computing Welch's t-test using NumPy"
   ]
  },
  {
   "cell_type": "markdown",
   "metadata": {},
   "source": [
    "\n",
    "### Welch's t-Test\n",
    "\n",
    "Recall that Welch's t-Test is given by  \n",
    "\n",
    "# $ t = \\frac{\\bar{X_1}-\\bar{X_2}}{\\sqrt{\\frac{s_1^2}{N_1} + \\frac{s_2^2}{N_2}}} = \\frac{\\bar{X_1}-\\bar{X_2}}{\\sqrt{se_1^2+se_2^2}}$\n",
    "\n",
    "where $\\bar{X_i}$ , $s_i$, and $N_i$ are the sample mean, sample variance, and sample size, respectively, for sample i.\n",
    "\n",
    "Write a function for calculatying Welch's t-statistic using two samples a, and b. To help, 2 potential samples are defined below.\n",
    "\n",
    "> **Important Note**: While the formula does not indicate it, it is appropriate to take the absolute value of the t-value."
   ]
  },
  {
   "cell_type": "code",
   "execution_count": 40,
   "metadata": {},
   "outputs": [],
   "source": [
    "import numpy as np\n",
    "\n",
    "np.random.seed(10)\n",
    "control = np.random.normal(loc=10, scale=1, size=8)\n",
    "treatment = np.random.normal(loc=10.5, scale=1.2, size=12)"
   ]
  },
  {
   "cell_type": "code",
   "execution_count": 41,
   "metadata": {},
   "outputs": [
    {
     "name": "stdout",
     "output_type": "stream",
     "text": [
      "0.698267064531528\n",
      "0.7980195023217462\n"
     ]
    }
   ],
   "source": [
    "control\n",
    "\n",
    "print(control.var())\n",
    "print(control.var(ddof=1))"
   ]
  },
  {
   "cell_type": "code",
   "execution_count": 42,
   "metadata": {},
   "outputs": [
    {
     "data": {
      "text/plain": [
       "array([10.50514972, 10.29047975, 11.01963143, 11.94364485,  9.3419212 ,\n",
       "       11.73392889, 10.77435616, 11.03416514,  9.13607735, 10.66216425,\n",
       "       12.2814444 ,  9.20423414])"
      ]
     },
     "execution_count": 42,
     "metadata": {},
     "output_type": "execute_result"
    }
   ],
   "source": [
    "treatment\n"
   ]
  },
  {
   "cell_type": "code",
   "execution_count": 43,
   "metadata": {},
   "outputs": [
    {
     "data": {
      "text/plain": [
       "1.2915855712723834"
      ]
     },
     "execution_count": 43,
     "metadata": {},
     "output_type": "execute_result"
    }
   ],
   "source": [
    "import math\n",
    "\n",
    "def welch_t(a, b):\n",
    "    var_a = a.var(ddof=1)\n",
    "    var_b = b.var(ddof=1)\n",
    "    n_a = len(a)\n",
    "    n_b = len(b)\n",
    "    mean_a = a.mean()\n",
    "    mean_b = b.mean()\n",
    "    \n",
    "    t = (mean_a-mean_b)/math.sqrt((var_a/n_a)+(var_b/n_b))\n",
    "    \n",
    "    return abs(t)\n",
    "\n",
    "welch_t(control,treatment)\n",
    "# 2.0997990691576858"
   ]
  },
  {
   "cell_type": "markdown",
   "metadata": {},
   "source": [
    "## Degrees of Freedom\n",
    "Once you have the t-score, you also need to calculate the degrees of freedom to determine the appropriate t-distribution and convert this score into a p-value. The effective degrees of freedom can be calculated using the formula:"
   ]
  },
  {
   "cell_type": "markdown",
   "metadata": {},
   "source": [
    "# $ v \\approx \\frac{\\left( \\frac{s_1^2}{N_1} + \\frac{s_2^2}{N_2}\\right)^2}{\\frac{s_1^4}{N_1^2v_1} + \\frac{s_2^4}{N_2^2v_2}} $\n",
    "\n",
    "$N_i$ - sample size of sample i  \n",
    "$s_i$ - variance of sample i  \n",
    "$v_i$ - degrees of freedom for sample i (equivalent to $N_i$-1   \n",
    "  \n",
    "Write a second function to calculate degree of freedom for above samples:"
   ]
  },
  {
   "cell_type": "code",
   "execution_count": 44,
   "metadata": {},
   "outputs": [
    {
     "data": {
      "text/plain": [
       "16.749143734504504"
      ]
     },
     "execution_count": 44,
     "metadata": {},
     "output_type": "execute_result"
    }
   ],
   "source": [
    "def welch_df(a, b):\n",
    "    \n",
    "    var_a = a.var(ddof=1) \n",
    "    var_b = b.var(ddof=1)\n",
    "    n_a = a.size\n",
    "    n_b = b.size\n",
    "    \n",
    "    numerator = (var_a/n_a + var_b/n_b)**2\n",
    "    denominator = (var_a/ n_a)**2/(n_a - 1) + (var_b/ n_b)**2/(n_b - 1)\n",
    "    \n",
    "    return numerator/denominator\n",
    "\n",
    "welch_df(control, treatment)\n",
    "# 17.673079085111"
   ]
  },
  {
   "cell_type": "markdown",
   "metadata": {},
   "source": [
    "Now calculate the welch-t score and degrees of freedom from the samples, a and b, using your functions."
   ]
  },
  {
   "cell_type": "code",
   "execution_count": 45,
   "metadata": {},
   "outputs": [
    {
     "name": "stdout",
     "output_type": "stream",
     "text": [
      "1.2915855712723834 16.749143734504504\n"
     ]
    }
   ],
   "source": [
    "#Your code here; calculate t and the degrees of freedom for the two samples, a and b\n",
    "t = welch_t(control,treatment)\n",
    "df = welch_df(control,treatment)\n",
    "\n",
    "print(t,df)\n",
    "# 2.0997990691576858 17.673079085111"
   ]
  },
  {
   "cell_type": "markdown",
   "metadata": {},
   "source": [
    "## Converting to a p-Value\n",
    "\n",
    "Great! Now that you have the t-score and the degrees of freedom, it's time to convert those values into a p-value (for a one-sided $t$-test). Remember that the easiest way to do this is to use the cumulative distribution function associated with your particular t-distribution.  \n",
    "\n",
    "Calculate the p-value associated with this experiment."
   ]
  },
  {
   "cell_type": "code",
   "execution_count": 46,
   "metadata": {},
   "outputs": [
    {
     "name": "stdout",
     "output_type": "stream",
     "text": [
      "0.10702032194814615\n"
     ]
    }
   ],
   "source": [
    "#Your code here; calculate the p-value for the two samples defined above\n",
    "import scipy.stats as stats\n",
    "p = 1 - stats.t.cdf(t, df) \n",
    "\n",
    "print(p)\n",
    "# 0.025191666225846454"
   ]
  },
  {
   "cell_type": "markdown",
   "metadata": {},
   "source": [
    "In this case, there is a 2.5% probability you would see t equal to or greater than what you saw from the data. Given that alpha was set at 0.05, this would constitute sufficient evidence to reject the null hypothesis.\n",
    "\n",
    "Building on this, you can also write a function that calculates the p-value for given samples with a two-sided test by taking advantage of the symmetry of the t-distribution to calculate only one side. The two-tailed p-value is simply twice the one-tailed value, because you want the probability:  \n",
    ">$t<−|t̂|$ and  $t>|t̂|$ , where t̂  is the t-statistic calculated from our data  \n",
    "\n",
    "With that, define a summative function `p_val_welch(a, b, two_sided=False)` which takes in two samples a and b, as  well as an optional binary variable to allow you to toggle between a one and two-sided Welch's $t$-test.   \n",
    "\n",
    "> The default behavior should be set to one-sided as indicated above. If the parameter two_sided is set to True, the function should return the p-value for a two-sided $t$-test, as oppossed to a one-sided $t$-test."
   ]
  },
  {
   "cell_type": "code",
   "execution_count": 49,
   "metadata": {},
   "outputs": [],
   "source": [
    "def p_value(a, b, two_sided=False):\n",
    "    t = welch_t(a, b)\n",
    "    df = welch_df(a, b)\n",
    "    \n",
    "    p = 1-stats.t.cdf(np.abs(t), df)\n",
    "    \n",
    "    if two_sided:\n",
    "        return 2*p\n",
    "    else:\n",
    "        return p"
   ]
  },
  {
   "cell_type": "markdown",
   "metadata": {},
   "source": [
    "Now briefly test your function; no need to write any code just run the cells below to ensure your function is operating properly. The output should match the commented values."
   ]
  },
  {
   "cell_type": "code",
   "execution_count": 50,
   "metadata": {},
   "outputs": [
    {
     "data": {
      "text/plain": [
       "0.10702032194814615"
      ]
     },
     "execution_count": 50,
     "metadata": {},
     "output_type": "execute_result"
    }
   ],
   "source": [
    "p_value(treatment, control)\n",
    "#0.025191666225846454"
   ]
  },
  {
   "cell_type": "code",
   "execution_count": 52,
   "metadata": {},
   "outputs": [
    {
     "data": {
      "text/plain": [
       "0.2140406438962923"
      ]
     },
     "execution_count": 52,
     "metadata": {},
     "output_type": "execute_result"
    }
   ],
   "source": [
    "p_value(treatment, control, two_sided=True)\n",
    "#0.05038333245169291"
   ]
  },
  {
   "cell_type": "markdown",
   "metadata": {},
   "source": [
    "## Summary\n",
    "\n",
    "Nice work! In this lab, you practiced implementing formulas for Welch's $t$-test for when sample variances or sample sizes differ in your experimental groups. You also got to review converting $t$-scores into p-values. All of this should continue to build on your abilities to effectively design and carry out statistically valid hypothesis tests."
   ]
  }
 ],
 "metadata": {
  "kernelspec": {
   "display_name": "learn-env",
   "language": "python",
   "name": "learn-env"
  },
  "language_info": {
   "codemirror_mode": {
    "name": "ipython",
    "version": 3
   },
   "file_extension": ".py",
   "mimetype": "text/x-python",
   "name": "python",
   "nbconvert_exporter": "python",
   "pygments_lexer": "ipython3",
   "version": "3.7.3"
  }
 },
 "nbformat": 4,
 "nbformat_minor": 2
}
