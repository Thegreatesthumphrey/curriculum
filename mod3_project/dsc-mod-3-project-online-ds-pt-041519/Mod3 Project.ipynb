{
 "cells": [
  {
   "cell_type": "code",
   "execution_count": 31,
   "metadata": {},
   "outputs": [],
   "source": [
    "# importing libraries\n",
    "\n",
    "import sqlite3\n",
    "import pandas as pd\n",
    "import matplotlib.pyplot as plt\n",
    "import seaborn as sns\n",
    "import flatiron_stats as fs\n",
    "import numpy as np\n",
    "\n",
    "from statsmodels.stats.power import TTestIndPower, TTestPower\n",
    "power_analysis = TTestIndPower()\n"
   ]
  },
  {
   "cell_type": "code",
   "execution_count": 4,
   "metadata": {},
   "outputs": [],
   "source": [
    "#connection to SQL database\n",
    "\n",
    "conn = sqlite3.connect('Northwind_small.sqlite')\n",
    "cur  = conn.cursor()"
   ]
  },
  {
   "cell_type": "markdown",
   "metadata": {},
   "source": [
    "## Does discount amount have a statistically significant effect on the quantity of a product in an order? If so, at what level(s) of discount?"
   ]
  },
  {
   "cell_type": "code",
   "execution_count": 5,
   "metadata": {},
   "outputs": [],
   "source": [
    "order_detail = cur.execute('''\n",
    "\n",
    "SELECT * FROM OrderDetail\n",
    "\n",
    ";''').fetchall()"
   ]
  },
  {
   "cell_type": "code",
   "execution_count": 6,
   "metadata": {},
   "outputs": [],
   "source": [
    "df = pd.DataFrame(order_detail)\n",
    "\n",
    "df.columns = ['orderID/productID','orderID','productID',\n",
    "                     'unit_price','quantity','discount']\n",
    "\n",
    "df['total_price'] = df.apply(lambda row: row.unit_price * row.quantity, axis = 1) \n"
   ]
  },
  {
   "cell_type": "code",
   "execution_count": 7,
   "metadata": {},
   "outputs": [
    {
     "data": {
      "text/html": [
       "<div>\n",
       "<style scoped>\n",
       "    .dataframe tbody tr th:only-of-type {\n",
       "        vertical-align: middle;\n",
       "    }\n",
       "\n",
       "    .dataframe tbody tr th {\n",
       "        vertical-align: top;\n",
       "    }\n",
       "\n",
       "    .dataframe thead th {\n",
       "        text-align: right;\n",
       "    }\n",
       "</style>\n",
       "<table border=\"1\" class=\"dataframe\">\n",
       "  <thead>\n",
       "    <tr style=\"text-align: right;\">\n",
       "      <th></th>\n",
       "      <th>orderID/productID</th>\n",
       "      <th>orderID</th>\n",
       "      <th>productID</th>\n",
       "      <th>unit_price</th>\n",
       "      <th>quantity</th>\n",
       "      <th>discount</th>\n",
       "      <th>total_price</th>\n",
       "    </tr>\n",
       "  </thead>\n",
       "  <tbody>\n",
       "    <tr>\n",
       "      <th>0</th>\n",
       "      <td>10248/11</td>\n",
       "      <td>10248</td>\n",
       "      <td>11</td>\n",
       "      <td>14.0</td>\n",
       "      <td>12</td>\n",
       "      <td>0.0</td>\n",
       "      <td>168.0</td>\n",
       "    </tr>\n",
       "    <tr>\n",
       "      <th>1</th>\n",
       "      <td>10248/42</td>\n",
       "      <td>10248</td>\n",
       "      <td>42</td>\n",
       "      <td>9.8</td>\n",
       "      <td>10</td>\n",
       "      <td>0.0</td>\n",
       "      <td>98.0</td>\n",
       "    </tr>\n",
       "    <tr>\n",
       "      <th>2</th>\n",
       "      <td>10248/72</td>\n",
       "      <td>10248</td>\n",
       "      <td>72</td>\n",
       "      <td>34.8</td>\n",
       "      <td>5</td>\n",
       "      <td>0.0</td>\n",
       "      <td>174.0</td>\n",
       "    </tr>\n",
       "    <tr>\n",
       "      <th>3</th>\n",
       "      <td>10249/14</td>\n",
       "      <td>10249</td>\n",
       "      <td>14</td>\n",
       "      <td>18.6</td>\n",
       "      <td>9</td>\n",
       "      <td>0.0</td>\n",
       "      <td>167.4</td>\n",
       "    </tr>\n",
       "    <tr>\n",
       "      <th>4</th>\n",
       "      <td>10249/51</td>\n",
       "      <td>10249</td>\n",
       "      <td>51</td>\n",
       "      <td>42.4</td>\n",
       "      <td>40</td>\n",
       "      <td>0.0</td>\n",
       "      <td>1696.0</td>\n",
       "    </tr>\n",
       "  </tbody>\n",
       "</table>\n",
       "</div>"
      ],
      "text/plain": [
       "  orderID/productID  orderID  productID  unit_price  quantity  discount  \\\n",
       "0          10248/11    10248         11        14.0        12       0.0   \n",
       "1          10248/42    10248         42         9.8        10       0.0   \n",
       "2          10248/72    10248         72        34.8         5       0.0   \n",
       "3          10249/14    10249         14        18.6         9       0.0   \n",
       "4          10249/51    10249         51        42.4        40       0.0   \n",
       "\n",
       "   total_price  \n",
       "0        168.0  \n",
       "1         98.0  \n",
       "2        174.0  \n",
       "3        167.4  \n",
       "4       1696.0  "
      ]
     },
     "execution_count": 7,
     "metadata": {},
     "output_type": "execute_result"
    }
   ],
   "source": [
    "df.head()"
   ]
  },
  {
   "cell_type": "code",
   "execution_count": 51,
   "metadata": {},
   "outputs": [
    {
     "data": {
      "text/html": [
       "<div>\n",
       "<style scoped>\n",
       "    .dataframe tbody tr th:only-of-type {\n",
       "        vertical-align: middle;\n",
       "    }\n",
       "\n",
       "    .dataframe tbody tr th {\n",
       "        vertical-align: top;\n",
       "    }\n",
       "\n",
       "    .dataframe thead th {\n",
       "        text-align: right;\n",
       "    }\n",
       "</style>\n",
       "<table border=\"1\" class=\"dataframe\">\n",
       "  <thead>\n",
       "    <tr style=\"text-align: right;\">\n",
       "      <th></th>\n",
       "      <th>orderID</th>\n",
       "      <th>productID</th>\n",
       "      <th>unit_price</th>\n",
       "      <th>quantity</th>\n",
       "      <th>total_price</th>\n",
       "    </tr>\n",
       "    <tr>\n",
       "      <th>discount</th>\n",
       "      <th></th>\n",
       "      <th></th>\n",
       "      <th></th>\n",
       "      <th></th>\n",
       "      <th></th>\n",
       "    </tr>\n",
       "  </thead>\n",
       "  <tbody>\n",
       "    <tr>\n",
       "      <th>0.00</th>\n",
       "      <td>14042897</td>\n",
       "      <td>54519</td>\n",
       "      <td>34467.91</td>\n",
       "      <td>28599</td>\n",
       "      <td>750698.61</td>\n",
       "    </tr>\n",
       "    <tr>\n",
       "      <th>0.05</th>\n",
       "      <td>1972417</td>\n",
       "      <td>7311</td>\n",
       "      <td>5697.32</td>\n",
       "      <td>5182</td>\n",
       "      <td>155386.71</td>\n",
       "    </tr>\n",
       "    <tr>\n",
       "      <th>0.15</th>\n",
       "      <td>1672996</td>\n",
       "      <td>6351</td>\n",
       "      <td>3607.22</td>\n",
       "      <td>4456</td>\n",
       "      <td>102948.44</td>\n",
       "    </tr>\n",
       "    <tr>\n",
       "      <th>0.10</th>\n",
       "      <td>1833523</td>\n",
       "      <td>7164</td>\n",
       "      <td>4354.68</td>\n",
       "      <td>4366</td>\n",
       "      <td>101665.71</td>\n",
       "    </tr>\n",
       "    <tr>\n",
       "      <th>0.20</th>\n",
       "      <td>1711705</td>\n",
       "      <td>6445</td>\n",
       "      <td>3787.81</td>\n",
       "      <td>4351</td>\n",
       "      <td>111476.38</td>\n",
       "    </tr>\n",
       "    <tr>\n",
       "      <th>0.25</th>\n",
       "      <td>1648801</td>\n",
       "      <td>5820</td>\n",
       "      <td>4345.02</td>\n",
       "      <td>4349</td>\n",
       "      <td>131918.09</td>\n",
       "    </tr>\n",
       "  </tbody>\n",
       "</table>\n",
       "</div>"
      ],
      "text/plain": [
       "           orderID  productID  unit_price  quantity  total_price\n",
       "discount                                                        \n",
       "0.00      14042897      54519    34467.91     28599    750698.61\n",
       "0.05       1972417       7311     5697.32      5182    155386.71\n",
       "0.15       1672996       6351     3607.22      4456    102948.44\n",
       "0.10       1833523       7164     4354.68      4366    101665.71\n",
       "0.20       1711705       6445     3787.81      4351    111476.38\n",
       "0.25       1648801       5820     4345.02      4349    131918.09"
      ]
     },
     "execution_count": 51,
     "metadata": {},
     "output_type": "execute_result"
    }
   ],
   "source": [
    "# total sales for different discount rates\n",
    "sales_for_discount = df.groupby('discount').sum()\n",
    "sales_for_discount.sort_values(by='quantity',ascending=False, axis=0).head(6)"
   ]
  },
  {
   "cell_type": "code",
   "execution_count": 37,
   "metadata": {},
   "outputs": [
    {
     "data": {
      "text/plain": [
       "0.00    1317\n",
       "0.05     185\n",
       "0.10     173\n",
       "0.20     161\n",
       "0.15     157\n",
       "0.25     154\n",
       "0.03       3\n",
       "0.02       2\n",
       "0.01       1\n",
       "0.04       1\n",
       "0.06       1\n",
       "Name: discount, dtype: int64"
      ]
     },
     "execution_count": 37,
     "metadata": {},
     "output_type": "execute_result"
    }
   ],
   "source": [
    "df.discount.value_counts()"
   ]
  },
  {
   "cell_type": "code",
   "execution_count": 8,
   "metadata": {},
   "outputs": [],
   "source": [
    "discount_0 = cur.execute('''\n",
    "SELECT quantity FROM OrderDetail WHERE discount = 0.0\n",
    ";''').fetchall()\n",
    "\n",
    "discount_5 = cur.execute('''\n",
    "SELECT quantity FROM OrderDetail WHERE discount = 0.05\n",
    ";''').fetchall()\n",
    "\n",
    "discount_10 = cur.execute('''\n",
    "SELECT quantity FROM OrderDetail WHERE discount = 0.1\n",
    ";''').fetchall()\n",
    "\n",
    "discount_15 = cur.execute('''\n",
    "SELECT quantity FROM OrderDetail WHERE discount = 0.15\n",
    ";''').fetchall()\n",
    "\n",
    "discount_20 = cur.execute('''\n",
    "SELECT quantity FROM OrderDetail WHERE discount = 0.2\n",
    ";''').fetchall()\n",
    "\n",
    "discount_25 = cur.execute('''\n",
    "SELECT quantity FROM OrderDetail WHERE discount = 0.25\n",
    ";''').fetchall()"
   ]
  },
  {
   "cell_type": "code",
   "execution_count": 9,
   "metadata": {},
   "outputs": [],
   "source": [
    "def tuple_to_list(item):\n",
    "    results = []\n",
    "    for t in item: \n",
    "        for x in t: \n",
    "            results.append(x) \n",
    "    return results\n",
    "\n",
    "disc_0 = tuple_to_list(discount_0)\n",
    "disc_5 = tuple_to_list(discount_5)\n",
    "disc_10 = tuple_to_list(discount_10)\n",
    "disc_15 = tuple_to_list(discount_15)\n",
    "disc_20 = tuple_to_list(discount_20)\n",
    "disc_25 = tuple_to_list(discount_25)\n",
    "\n",
    "#now we have a list of quantities per product ordered for each discount category"
   ]
  },
  {
   "cell_type": "markdown",
   "metadata": {},
   "source": [
    "## AB Testing "
   ]
  },
  {
   "cell_type": "code",
   "execution_count": 29,
   "metadata": {},
   "outputs": [],
   "source": [
    "#exploring data\n",
    "def data_exploration(data):\n",
    "    series = pd.Series(data)\n",
    "    print('Mean: '+str(series.mean()))\n",
    "    print('Std: '+str(series.std()))\n",
    "    print('Len: '+str(len(series)))\n",
    "    sns.distplot(data)\n",
    "    \n",
    "no_discount = np.array(disc_0)\n",
    "some_discount = np.array(disc_5 + disc_10 + disc_15 + disc_20 + disc_25)"
   ]
  },
  {
   "cell_type": "code",
   "execution_count": 23,
   "metadata": {},
   "outputs": [
    {
     "name": "stdout",
     "output_type": "stream",
     "text": [
      "Mean: 27.35421686746988\n",
      "Std: 20.720666776283\n",
      "Len: 830\n"
     ]
    },
    {
     "data": {
      "image/png": "[encoded data removed]",
      "text/plain": [
       "<Figure size 432x288 with 1 Axes>"
      ]
     },
     "metadata": {
      "needs_background": "light"
     },
     "output_type": "display_data"
    }
   ],
   "source": [
    "data_exploration(some_discount)"
   ]
  },
  {
   "cell_type": "code",
   "execution_count": 30,
   "metadata": {},
   "outputs": [
    {
     "data": {
      "text/plain": [
       "5.02563546334045e-11"
      ]
     },
     "execution_count": 30,
     "metadata": {},
     "output_type": "execute_result"
    }
   ],
   "source": [
    "fs.p_value_welch_ttest(no_discount, some_discount, two_sided=False)\n",
    "\n",
    "#according to this test, there is a signigficant difference between the two samples\n",
    "#what is the effect size?"
   ]
  },
  {
   "cell_type": "code",
   "execution_count": 33,
   "metadata": {},
   "outputs": [],
   "source": [
    "def Cohen_d(group1, group2):\n",
    "    diff = group1.mean() - group2.mean()\n",
    "    n1, n2 = len(group1), len(group2)\n",
    "    var1 = group1.var()\n",
    "    var2 = group2.var()\n",
    "    # Calculate the pooled threshold as shown earlier\n",
    "    pooled_var = (n1 * var1 + n2 * var2) / (n1 + n2)\n",
    "    # Calculate Cohen's d statistic\n",
    "    d = diff / np.sqrt(pooled_var)\n",
    "    return d\n"
   ]
  },
  {
   "cell_type": "code",
   "execution_count": 36,
   "metadata": {},
   "outputs": [
    {
     "data": {
      "text/plain": [
       "0.2998530648320468"
      ]
     },
     "execution_count": 36,
     "metadata": {},
     "output_type": "execute_result"
    }
   ],
   "source": [
    "Cohen_d(some_discount,no_discount)\n",
    "\n",
    "# Cohen's D value: 0.29\n",
    "# If M1 is your experimental group, and M2 is your control group\n",
    "# a positive effect size indicates that the effect increases your mean.\n",
    "# Cohen’s d is the difference between two means, measured in standard deviations.\n",
    "# This means that the discount has a small positive effect on the number of products ordered"
   ]
  },
  {
   "cell_type": "code",
   "execution_count": null,
   "metadata": {},
   "outputs": [],
   "source": []
  },
  {
   "cell_type": "code",
   "execution_count": null,
   "metadata": {},
   "outputs": [],
   "source": []
  },
  {
   "cell_type": "code",
   "execution_count": 79,
   "metadata": {},
   "outputs": [
    {
     "data": {
      "text/html": [
       "<div>\n",
       "<style scoped>\n",
       "    .dataframe tbody tr th:only-of-type {\n",
       "        vertical-align: middle;\n",
       "    }\n",
       "\n",
       "    .dataframe tbody tr th {\n",
       "        vertical-align: top;\n",
       "    }\n",
       "\n",
       "    .dataframe thead th {\n",
       "        text-align: right;\n",
       "    }\n",
       "</style>\n",
       "<table border=\"1\" class=\"dataframe\">\n",
       "  <thead>\n",
       "    <tr style=\"text-align: right;\">\n",
       "      <th></th>\n",
       "      <th>orderID</th>\n",
       "      <th>productID</th>\n",
       "      <th>unit_price</th>\n",
       "      <th>quantity</th>\n",
       "      <th>total_price</th>\n",
       "    </tr>\n",
       "    <tr>\n",
       "      <th>discount</th>\n",
       "      <th></th>\n",
       "      <th></th>\n",
       "      <th></th>\n",
       "      <th></th>\n",
       "      <th></th>\n",
       "    </tr>\n",
       "  </thead>\n",
       "  <tbody>\n",
       "    <tr>\n",
       "      <th>0.00</th>\n",
       "      <td>14042897</td>\n",
       "      <td>54519</td>\n",
       "      <td>34467.91</td>\n",
       "      <td>28599</td>\n",
       "      <td>750698.61</td>\n",
       "    </tr>\n",
       "    <tr>\n",
       "      <th>0.05</th>\n",
       "      <td>1972417</td>\n",
       "      <td>7311</td>\n",
       "      <td>5697.32</td>\n",
       "      <td>5182</td>\n",
       "      <td>155386.71</td>\n",
       "    </tr>\n",
       "    <tr>\n",
       "      <th>0.10</th>\n",
       "      <td>1833523</td>\n",
       "      <td>7164</td>\n",
       "      <td>4354.68</td>\n",
       "      <td>4366</td>\n",
       "      <td>101665.71</td>\n",
       "    </tr>\n",
       "    <tr>\n",
       "      <th>0.15</th>\n",
       "      <td>1672996</td>\n",
       "      <td>6351</td>\n",
       "      <td>3607.22</td>\n",
       "      <td>4456</td>\n",
       "      <td>102948.44</td>\n",
       "    </tr>\n",
       "    <tr>\n",
       "      <th>0.20</th>\n",
       "      <td>1711705</td>\n",
       "      <td>6445</td>\n",
       "      <td>3787.81</td>\n",
       "      <td>4351</td>\n",
       "      <td>111476.38</td>\n",
       "    </tr>\n",
       "    <tr>\n",
       "      <th>0.25</th>\n",
       "      <td>1648801</td>\n",
       "      <td>5820</td>\n",
       "      <td>4345.02</td>\n",
       "      <td>4349</td>\n",
       "      <td>131918.09</td>\n",
       "    </tr>\n",
       "  </tbody>\n",
       "</table>\n",
       "</div>"
      ],
      "text/plain": [
       "           orderID  productID  unit_price  quantity  total_price\n",
       "discount                                                        \n",
       "0.00      14042897      54519    34467.91     28599    750698.61\n",
       "0.05       1972417       7311     5697.32      5182    155386.71\n",
       "0.10       1833523       7164     4354.68      4366    101665.71\n",
       "0.15       1672996       6351     3607.22      4456    102948.44\n",
       "0.20       1711705       6445     3787.81      4351    111476.38\n",
       "0.25       1648801       5820     4345.02      4349    131918.09"
      ]
     },
     "execution_count": 79,
     "metadata": {},
     "output_type": "execute_result"
    }
   ],
   "source": [
    "# total sales for different discount rates\n",
    "sales_for_discount = df.groupby('discount').sum()\n",
    "sales_for_discount"
   ]
  },
  {
   "cell_type": "code",
   "execution_count": 80,
   "metadata": {},
   "outputs": [
    {
     "data": {
      "text/html": [
       "<div>\n",
       "<style scoped>\n",
       "    .dataframe tbody tr th:only-of-type {\n",
       "        vertical-align: middle;\n",
       "    }\n",
       "\n",
       "    .dataframe tbody tr th {\n",
       "        vertical-align: top;\n",
       "    }\n",
       "\n",
       "    .dataframe thead th {\n",
       "        text-align: right;\n",
       "    }\n",
       "</style>\n",
       "<table border=\"1\" class=\"dataframe\">\n",
       "  <thead>\n",
       "    <tr style=\"text-align: right;\">\n",
       "      <th></th>\n",
       "      <th>orderID/productID</th>\n",
       "      <th>orderID</th>\n",
       "      <th>productID</th>\n",
       "      <th>unit_price</th>\n",
       "      <th>quantity</th>\n",
       "      <th>discount</th>\n",
       "      <th>total_price</th>\n",
       "    </tr>\n",
       "  </thead>\n",
       "  <tbody>\n",
       "    <tr>\n",
       "      <th>0</th>\n",
       "      <td>10248/11</td>\n",
       "      <td>10248</td>\n",
       "      <td>11</td>\n",
       "      <td>14.0</td>\n",
       "      <td>12</td>\n",
       "      <td>0.0</td>\n",
       "      <td>168.0</td>\n",
       "    </tr>\n",
       "    <tr>\n",
       "      <th>1</th>\n",
       "      <td>10248/42</td>\n",
       "      <td>10248</td>\n",
       "      <td>42</td>\n",
       "      <td>9.8</td>\n",
       "      <td>10</td>\n",
       "      <td>0.0</td>\n",
       "      <td>98.0</td>\n",
       "    </tr>\n",
       "    <tr>\n",
       "      <th>2</th>\n",
       "      <td>10248/72</td>\n",
       "      <td>10248</td>\n",
       "      <td>72</td>\n",
       "      <td>34.8</td>\n",
       "      <td>5</td>\n",
       "      <td>0.0</td>\n",
       "      <td>174.0</td>\n",
       "    </tr>\n",
       "    <tr>\n",
       "      <th>3</th>\n",
       "      <td>10249/14</td>\n",
       "      <td>10249</td>\n",
       "      <td>14</td>\n",
       "      <td>18.6</td>\n",
       "      <td>9</td>\n",
       "      <td>0.0</td>\n",
       "      <td>167.4</td>\n",
       "    </tr>\n",
       "    <tr>\n",
       "      <th>4</th>\n",
       "      <td>10249/51</td>\n",
       "      <td>10249</td>\n",
       "      <td>51</td>\n",
       "      <td>42.4</td>\n",
       "      <td>40</td>\n",
       "      <td>0.0</td>\n",
       "      <td>1696.0</td>\n",
       "    </tr>\n",
       "  </tbody>\n",
       "</table>\n",
       "</div>"
      ],
      "text/plain": [
       "  orderID/productID  orderID  productID  unit_price  quantity  discount  \\\n",
       "0          10248/11    10248         11        14.0        12       0.0   \n",
       "1          10248/42    10248         42         9.8        10       0.0   \n",
       "2          10248/72    10248         72        34.8         5       0.0   \n",
       "3          10249/14    10249         14        18.6         9       0.0   \n",
       "4          10249/51    10249         51        42.4        40       0.0   \n",
       "\n",
       "   total_price  \n",
       "0        168.0  \n",
       "1         98.0  \n",
       "2        174.0  \n",
       "3        167.4  \n",
       "4       1696.0  "
      ]
     },
     "execution_count": 80,
     "metadata": {},
     "output_type": "execute_result"
    }
   ],
   "source": []
  },
  {
   "cell_type": "code",
   "execution_count": null,
   "metadata": {},
   "outputs": [],
   "source": []
  }
 ],
 "metadata": {
  "kernelspec": {
   "display_name": "learn-env",
   "language": "python",
   "name": "learn-env"
  },
  "language_info": {
   "codemirror_mode": {
    "name": "ipython",
    "version": 3
   },
   "file_extension": ".py",
   "mimetype": "text/x-python",
   "name": "python",
   "nbconvert_exporter": "python",
   "pygments_lexer": "ipython3",
   "version": "3.7.3"
  }
 },
 "nbformat": 4,
 "nbformat_minor": 2
}
