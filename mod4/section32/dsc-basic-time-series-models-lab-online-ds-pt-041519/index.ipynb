{
 "cells": [
  {
   "cell_type": "markdown",
   "metadata": {},
   "source": [
    "# Basic Time Series Models - Lab"
   ]
  },
  {
   "cell_type": "markdown",
   "metadata": {},
   "source": [
    "## Introduction\n",
    "\n",
    "Now that you have an initial understanding of the the White Noise and the Random Walk model, let's try to generate some examples!"
   ]
  },
  {
   "cell_type": "markdown",
   "metadata": {},
   "source": [
    "## Objectives\n",
    "\n",
    "You will be able to:\n",
    "- Explain what the goal is of time series modeling\n",
    "- Understand and explain what a White Noise model is\n",
    "- Understand and explain what a Random Walk model is\n",
    "- Understand the mathematical formulations of Random Walk and White Noise models"
   ]
  },
  {
   "cell_type": "markdown",
   "metadata": {},
   "source": [
    "## A White Noise Model"
   ]
  },
  {
   "cell_type": "markdown",
   "metadata": {},
   "source": [
    "To get a good sense of how a model works, it is always a good idea to generate a process. Let's consider the following example:\n",
    "- Every day in August, September and October 2018, Nina takes the subway to work. Let's ignore weekends for now and assume that Nina works every day.\n",
    "- We know that on average, it takes her 25 minutes, and the standard deviation is 4 minutes. \n",
    "- Create and visualize a time series that reflects this information."
   ]
  },
  {
   "cell_type": "markdown",
   "metadata": {},
   "source": [
    "Let's import pandas, numpy and matplotlib."
   ]
  },
  {
   "cell_type": "code",
   "execution_count": 1,
   "metadata": {},
   "outputs": [],
   "source": [
    "import pandas as pd\n",
    "import numpy as np\n",
    "import matplotlib.pyplot as plt\n",
    "\n",
    "\n",
    "np.random.seed(12) # do not change this seed."
   ]
  },
  {
   "cell_type": "markdown",
   "metadata": {},
   "source": [
    "Create the dates. You can do this using `pd.date_range`, more info [here](https://pandas.pydata.org/pandas-docs/stable/generated/pandas.date_range.html)."
   ]
  },
  {
   "cell_type": "code",
   "execution_count": 2,
   "metadata": {},
   "outputs": [
    {
     "data": {
      "text/plain": [
       "DatetimeIndex(['2018-08-01', '2018-08-02', '2018-08-03', '2018-08-04',\n",
       "               '2018-08-05', '2018-08-06', '2018-08-07', '2018-08-08',\n",
       "               '2018-08-09', '2018-08-10', '2018-08-11', '2018-08-12',\n",
       "               '2018-08-13', '2018-08-14', '2018-08-15', '2018-08-16',\n",
       "               '2018-08-17', '2018-08-18', '2018-08-19', '2018-08-20',\n",
       "               '2018-08-21', '2018-08-22', '2018-08-23', '2018-08-24',\n",
       "               '2018-08-25', '2018-08-26', '2018-08-27', '2018-08-28',\n",
       "               '2018-08-29', '2018-08-30', '2018-08-31', '2018-09-01',\n",
       "               '2018-09-02', '2018-09-03', '2018-09-04', '2018-09-05',\n",
       "               '2018-09-06', '2018-09-07', '2018-09-08', '2018-09-09',\n",
       "               '2018-09-10', '2018-09-11', '2018-09-12', '2018-09-13',\n",
       "               '2018-09-14', '2018-09-15', '2018-09-16', '2018-09-17',\n",
       "               '2018-09-18', '2018-09-19', '2018-09-20', '2018-09-21',\n",
       "               '2018-09-22', '2018-09-23', '2018-09-24', '2018-09-25',\n",
       "               '2018-09-26', '2018-09-27', '2018-09-28', '2018-09-29',\n",
       "               '2018-09-30', '2018-10-01', '2018-10-02', '2018-10-03',\n",
       "               '2018-10-04', '2018-10-05', '2018-10-06', '2018-10-07',\n",
       "               '2018-10-08', '2018-10-09', '2018-10-10', '2018-10-11',\n",
       "               '2018-10-12', '2018-10-13', '2018-10-14', '2018-10-15',\n",
       "               '2018-10-16', '2018-10-17', '2018-10-18', '2018-10-19',\n",
       "               '2018-10-20', '2018-10-21', '2018-10-22', '2018-10-23',\n",
       "               '2018-10-24', '2018-10-25', '2018-10-26', '2018-10-27',\n",
       "               '2018-10-28', '2018-10-29', '2018-10-30', '2018-10-31'],\n",
       "              dtype='datetime64[ns]', freq='D')"
      ]
     },
     "execution_count": 2,
     "metadata": {},
     "output_type": "execute_result"
    }
   ],
   "source": [
    "travel = pd.date_range(start='8/1/2018',periods=None, freq=None, end='10/31/2018')\n",
    "travel"
   ]
  },
  {
   "cell_type": "markdown",
   "metadata": {},
   "source": [
    "Generate the values for the wite noise process representing Nina's commute in August and September."
   ]
  },
  {
   "cell_type": "code",
   "execution_count": 3,
   "metadata": {},
   "outputs": [
    {
     "data": {
      "text/plain": [
       "array([26.89194333, 22.27429648, 25.96975799, 18.19705746, 28.01257134,\n",
       "       18.86111464, 25.02050831, 24.51908932, 21.77207249, 36.48727758,\n",
       "       22.60870832, 26.88982797, 29.38382447, 20.1393248 , 30.36942549,\n",
       "       24.51140085, 29.05006191, 21.34452341, 20.88187917, 29.8391858 ,\n",
       "       27.00748922, 25.55538471, 27.56304445, 27.10933066, 20.38255906,\n",
       "       16.14666608, 18.27297396, 17.847623  , 16.12586022, 22.41027688,\n",
       "       22.88638272, 24.8431633 , 25.85990379, 23.46256479, 23.98438369,\n",
       "       25.2930083 , 21.01118465, 22.14457485, 25.14166538, 22.28821854,\n",
       "       22.71247575, 24.57655074, 30.34332535, 26.27466115, 23.649619  ,\n",
       "       22.65892689, 24.54032024, 33.96727118, 12.41033391, 27.14054357,\n",
       "       25.92996176, 28.4704478 , 20.40714914, 33.45737697, 29.00377104,\n",
       "       24.79434002, 25.63915079, 22.13494565, 25.20209131, 24.42665034,\n",
       "       28.77430156, 26.4305769 , 24.66620319, 27.71122441, 27.2242415 ,\n",
       "       25.89087784, 18.88405808, 29.1168447 , 20.33496496, 20.96175339,\n",
       "       24.57892805, 27.04808863, 30.63091105, 18.24921468, 30.88493597,\n",
       "       31.54585163, 23.15442026, 24.19455092, 22.71273308, 22.58680354,\n",
       "       19.64244312, 18.24138832, 24.20269064, 26.03109034, 32.31528286,\n",
       "       20.99599382, 16.63323515, 25.58623882, 23.13459559, 26.42489203,\n",
       "       23.40848107, 19.96310594])"
      ]
     },
     "execution_count": 3,
     "metadata": {},
     "output_type": "execute_result"
    }
   ],
   "source": [
    "mean_time = 25\n",
    "std_time = 4\n",
    "travel_time = np.random.normal(mean_time, std_time, len(travel))\n",
    "travel_time"
   ]
  },
  {
   "cell_type": "markdown",
   "metadata": {},
   "source": [
    "Create a time series with the dates and the commute times."
   ]
  },
  {
   "cell_type": "code",
   "execution_count": 24,
   "metadata": {},
   "outputs": [
    {
     "data": {
      "text/html": [
       "<div>\n",
       "<style scoped>\n",
       "    .dataframe tbody tr th:only-of-type {\n",
       "        vertical-align: middle;\n",
       "    }\n",
       "\n",
       "    .dataframe tbody tr th {\n",
       "        vertical-align: top;\n",
       "    }\n",
       "\n",
       "    .dataframe thead th {\n",
       "        text-align: right;\n",
       "    }\n",
       "</style>\n",
       "<table border=\"1\" class=\"dataframe\">\n",
       "  <thead>\n",
       "    <tr style=\"text-align: right;\">\n",
       "      <th></th>\n",
       "      <th>journey</th>\n",
       "    </tr>\n",
       "    <tr>\n",
       "      <th>date</th>\n",
       "      <th></th>\n",
       "    </tr>\n",
       "  </thead>\n",
       "  <tbody>\n",
       "    <tr>\n",
       "      <th>2018-08-01</th>\n",
       "      <td>26.891943</td>\n",
       "    </tr>\n",
       "    <tr>\n",
       "      <th>2018-08-02</th>\n",
       "      <td>22.274296</td>\n",
       "    </tr>\n",
       "    <tr>\n",
       "      <th>2018-08-03</th>\n",
       "      <td>25.969758</td>\n",
       "    </tr>\n",
       "    <tr>\n",
       "      <th>2018-08-04</th>\n",
       "      <td>18.197057</td>\n",
       "    </tr>\n",
       "    <tr>\n",
       "      <th>2018-08-05</th>\n",
       "      <td>28.012571</td>\n",
       "    </tr>\n",
       "  </tbody>\n",
       "</table>\n",
       "</div>"
      ],
      "text/plain": [
       "              journey\n",
       "date                 \n",
       "2018-08-01  26.891943\n",
       "2018-08-02  22.274296\n",
       "2018-08-03  25.969758\n",
       "2018-08-04  18.197057\n",
       "2018-08-05  28.012571"
      ]
     },
     "execution_count": 24,
     "metadata": {},
     "output_type": "execute_result"
    }
   ],
   "source": [
    "index_time = pd.DataFrame(travel)\n",
    "index_time = index_time.rename(columns={0: \"date\"})\n",
    "time_column = pd.DataFrame(travel_time)\n",
    "time_column = time_column.rename(columns={0: \"journey\"})\n",
    "df = pd.concat([index_time, time_column], axis=1)\n",
    "\n",
    "df.date = pd.to_datetime(df.date, format='%y/%m/%d')\n",
    "df.set_index('date', inplace = True)\n",
    "\n",
    "df.head()"
   ]
  },
  {
   "cell_type": "markdown",
   "metadata": {},
   "source": [
    "Visualize the time series and set appropriate axis labels."
   ]
  },
  {
   "cell_type": "code",
   "execution_count": 33,
   "metadata": {},
   "outputs": [
    {
     "data": {
      "image/png": "[encoded data removed]",
      "text/plain": [
       "<Figure size 720x576 with 1 Axes>"
      ]
     },
     "metadata": {
      "needs_background": "light"
     },
     "output_type": "display_data"
    }
   ],
   "source": [
    "plt.figure(figsize=(10,8));\n",
    "plt.plot(df)\n",
    "plt.xlabel('dates')\n",
    "plt.ylabel('journey time')\n",
    "\n",
    "plt.tick_params(\n",
    "    axis='x',          # changes apply to the x-axis\n",
    "    which='both',      # both major and minor ticks are affected\n",
    "    bottom=False,      # ticks along the bottom edge are off\n",
    "    top=False,         # ticks along the top edge are off\n",
    "    labelbottom=False) # labels along the bottom edge are off"
   ]
  },
  {
   "cell_type": "markdown",
   "metadata": {},
   "source": [
    "Print Nina's shortest and longest commute."
   ]
  },
  {
   "cell_type": "code",
   "execution_count": 34,
   "metadata": {},
   "outputs": [
    {
     "data": {
      "text/plain": [
       "journey    12.410334\n",
       "dtype: float64"
      ]
     },
     "execution_count": 34,
     "metadata": {},
     "output_type": "execute_result"
    }
   ],
   "source": [
    "df.min()"
   ]
  },
  {
   "cell_type": "code",
   "execution_count": 35,
   "metadata": {},
   "outputs": [
    {
     "data": {
      "text/plain": [
       "journey    36.487278\n",
       "dtype: float64"
      ]
     },
     "execution_count": 35,
     "metadata": {},
     "output_type": "execute_result"
    }
   ],
   "source": [
    "df.max()"
   ]
  },
  {
   "cell_type": "markdown",
   "metadata": {},
   "source": [
    "Look at the distribution of commute times."
   ]
  },
  {
   "cell_type": "code",
   "execution_count": 36,
   "metadata": {
    "scrolled": true
   },
   "outputs": [
    {
     "data": {
      "text/plain": [
       "array([[<matplotlib.axes._subplots.AxesSubplot object at 0x000000B8989A8D30>]],\n",
       "      dtype=object)"
      ]
     },
     "execution_count": 36,
     "metadata": {},
     "output_type": "execute_result"
    },
    {
     "data": {
      "image/png": "[encoded data removed]",
      "text/plain": [
       "<Figure size 432x288 with 1 Axes>"
      ]
     },
     "metadata": {
      "needs_background": "light"
     },
     "output_type": "display_data"
    }
   ],
   "source": [
    "df.hist()"
   ]
  },
  {
   "cell_type": "markdown",
   "metadata": {},
   "source": [
    "Compute the standard deviation and the mean of the commute series. The fact that the mean and standard error are constant over time is crucial!"
   ]
  },
  {
   "cell_type": "code",
   "execution_count": 37,
   "metadata": {},
   "outputs": [
    {
     "data": {
      "text/plain": [
       "journey    24.437619\n",
       "dtype: float64"
      ]
     },
     "execution_count": 37,
     "metadata": {},
     "output_type": "execute_result"
    }
   ],
   "source": [
    "df.mean()"
   ]
  },
  {
   "cell_type": "code",
   "execution_count": 38,
   "metadata": {},
   "outputs": [
    {
     "data": {
      "text/plain": [
       "journey    4.283443\n",
       "dtype: float64"
      ]
     },
     "execution_count": 38,
     "metadata": {},
     "output_type": "execute_result"
    }
   ],
   "source": [
    "df.std()"
   ]
  },
  {
   "cell_type": "markdown",
   "metadata": {},
   "source": [
    "Now, let's look at the mean and standard error for August and October respectively. "
   ]
  },
  {
   "cell_type": "code",
   "execution_count": null,
   "metadata": {},
   "outputs": [],
   "source": []
  },
  {
   "cell_type": "markdown",
   "metadata": {},
   "source": [
    "Because you've generated this data, you know that the mean and constant will be the same over time. But comparing mean and standard deviation over time is useful practice for real data examples to check if a process is White Noise!"
   ]
  },
  {
   "cell_type": "markdown",
   "metadata": {},
   "source": [
    "## A Random Walk Model"
   ]
  },
  {
   "cell_type": "markdown",
   "metadata": {},
   "source": [
    "Remember from the lecture that the Random Walk Model:"
   ]
  },
  {
   "cell_type": "markdown",
   "metadata": {},
   "source": [
    "- Has no specified mean or variance\n",
    "- Has a strong dependence over time\n",
    "\n",
    "Mathematically, this can be written as:\n",
    "\n",
    "$$Y_t = Y_{t-1} + \\epsilon_t$$\n",
    "\n",
    "Because today's value depends on yesterday's, you need a starting value when you start off your time series. In practice, this is what the first few time series values look like:\n",
    "$$ Y_0 = \\text{some specified starting value}$$\n",
    "$$Y_1= Y_{0}+ \\epsilon_1 $$\n",
    "$$Y_2= Y_{1}+ \\epsilon_2 = Y_{0} + \\epsilon_1 + \\epsilon_2  $$\n",
    "$$Y_3= Y_{2}+ \\epsilon_3 = Y_{0} + \\epsilon_1 + \\epsilon_2 + \\epsilon_3 $$\n",
    "$$\\ldots $$\n",
    "\n",
    "Keeping this in mind, let's create a random walk model:\n",
    "- starting from a value of 1000 USD of a share value upon a company's first IPO (initial public offering) in 2010 until end of November of the same year, generate a random walk model with a white noise error term, which has a standard error of 10."
   ]
  },
  {
   "cell_type": "code",
   "execution_count": 45,
   "metadata": {},
   "outputs": [],
   "source": [
    "# keep the random seed\n",
    "np.random.seed(11)\n",
    "\n",
    "# create a series with the specified dates\n",
    "dates = pd.date_range('2010-01-01', '2010-11-30')\n",
    "len(dates)\n",
    "\n",
    "error = np.random.normal(0,10,len(dates))\n",
    "\n",
    "def random_walk(start, error):        \n",
    "    Y_0 = start\n",
    "    cum_error = np.cumsum(error)\n",
    "    Y = cum_error + Y_0 \n",
    "    return Y\n",
    "\n",
    "shares_value = random_walk(1000, error)\n",
    "\n",
    "shares_series =  pd.Series(shares_value, index=dates)"
   ]
  },
  {
   "cell_type": "markdown",
   "metadata": {},
   "source": [
    "Visualize the time series with correct axis labels"
   ]
  },
  {
   "cell_type": "code",
   "execution_count": 46,
   "metadata": {},
   "outputs": [
    {
     "data": {
      "text/plain": [
       "<matplotlib.axes._subplots.AxesSubplot at 0xb898d351d0>"
      ]
     },
     "execution_count": 46,
     "metadata": {},
     "output_type": "execute_result"
    },
    {
     "data": {
      "image/png": "[encoded data removed]",
      "text/plain": [
       "<Figure size 432x288 with 1 Axes>"
      ]
     },
     "metadata": {
      "needs_background": "light"
     },
     "output_type": "display_data"
    }
   ],
   "source": [
    "shares_series.plot()"
   ]
  },
  {
   "cell_type": "markdown",
   "metadata": {},
   "source": [
    "You can see how this very much looks like the exchange rate series you looked at in the lecture!"
   ]
  },
  {
   "cell_type": "markdown",
   "metadata": {},
   "source": [
    "## Random Walk with a Drift\n",
    "\n",
    "Repeat the above, but include a drift parameter $c$ of 8 now!"
   ]
  },
  {
   "cell_type": "code",
   "execution_count": null,
   "metadata": {},
   "outputs": [],
   "source": [
    "# keep the random seed"
   ]
  },
  {
   "cell_type": "code",
   "execution_count": 48,
   "metadata": {},
   "outputs": [
    {
     "data": {
      "text/plain": [
       "<matplotlib.axes._subplots.AxesSubplot at 0xb898de7cf8>"
      ]
     },
     "execution_count": 48,
     "metadata": {},
     "output_type": "execute_result"
    },
    {
     "data": {
      "image/png": "[encoded data removed]",
      "text/plain": [
       "<Figure size 432x288 with 1 Axes>"
      ]
     },
     "metadata": {
      "needs_background": "light"
     },
     "output_type": "display_data"
    }
   ],
   "source": [
    "def random_walk_with_drift(start, error):        \n",
    "    Y_0 = start\n",
    "    cum_error = np.cumsum(error+8)\n",
    "    Y = cum_error + Y_0 \n",
    "    return Y\n",
    "\n",
    "shares_value = random_walk_with_drift(1000, error)\n",
    "shares_series =  pd.Series(shares_value, index=dates)\n",
    "shares_series.plot()"
   ]
  },
  {
   "cell_type": "markdown",
   "metadata": {},
   "source": [
    "Note that there is a very strong drift here!"
   ]
  },
  {
   "cell_type": "markdown",
   "metadata": {},
   "source": [
    "## Differencing in a Random Walk model"
   ]
  },
  {
   "cell_type": "markdown",
   "metadata": {},
   "source": [
    "One important property of the Random Walk model is that a differenced random walk returns a white noise. This is a result of the mathematical formula:\n",
    "\n",
    "$$Y_t = Y_{t-1} + \\epsilon_t$$\n",
    "which is equivalent to\n",
    "$$Y_t - Y_{t-1} = \\epsilon_t$$\n",
    "\n",
    "and we know that $\\epsilon_t$ is a mean-zero white noise process! "
   ]
  },
  {
   "cell_type": "markdown",
   "metadata": {},
   "source": [
    "Plot the differenced time series for the shares time series (no drift)."
   ]
  },
  {
   "cell_type": "code",
   "execution_count": null,
   "metadata": {},
   "outputs": [],
   "source": [
    "# your code here"
   ]
  },
  {
   "cell_type": "markdown",
   "metadata": {},
   "source": [
    "This does look a lot like a white noise series!"
   ]
  },
  {
   "cell_type": "markdown",
   "metadata": {},
   "source": [
    "Plot the differenced time series for the shares time series (with a drift)."
   ]
  },
  {
   "cell_type": "code",
   "execution_count": null,
   "metadata": {},
   "outputs": [],
   "source": [
    "# your code here"
   ]
  },
  {
   "cell_type": "markdown",
   "metadata": {},
   "source": [
    "This is also a white noise series, but what can you tell about the mean?"
   ]
  },
  {
   "cell_type": "markdown",
   "metadata": {},
   "source": [
    "The mean is equal to the drift $c$, so 8 for this example!"
   ]
  },
  {
   "cell_type": "markdown",
   "metadata": {},
   "source": [
    "## Summary\n",
    "\n",
    "Great, you now know how a Random Walk and Moving Average model work!"
   ]
  }
 ],
 "metadata": {
  "kernelspec": {
   "display_name": "learn-env",
   "language": "python",
   "name": "learn-env"
  },
  "language_info": {
   "codemirror_mode": {
    "name": "ipython",
    "version": 3
   },
   "file_extension": ".py",
   "mimetype": "text/x-python",
   "name": "python",
   "nbconvert_exporter": "python",
   "pygments_lexer": "ipython3",
   "version": "3.7.3"
  }
 },
 "nbformat": 4,
 "nbformat_minor": 2
}
