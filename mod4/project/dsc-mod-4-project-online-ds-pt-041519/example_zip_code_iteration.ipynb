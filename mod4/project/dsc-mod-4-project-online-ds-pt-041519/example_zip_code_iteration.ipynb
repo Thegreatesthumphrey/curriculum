{
 "cells": [
  {
   "cell_type": "markdown",
   "metadata": {
    "toc": true
   },
   "source": [
    "<h1>Table of Contents<span class=\"tocSkip\"></span></h1>\n",
    "<div class=\"toc\"><ul class=\"toc-item\"><li><span><a href=\"#Pick-a-specific-state-(CA)\" data-toc-modified-id=\"Pick-a-specific-state-(CA)-1\"><span class=\"toc-item-num\">1&nbsp;&nbsp;</span>Pick a specific state (CA)</a></span></li><li><span><a href=\"#Looking-at-every-state-&amp;-county\" data-toc-modified-id=\"Looking-at-every-state-&amp;-county-2\"><span class=\"toc-item-num\">2&nbsp;&nbsp;</span>Looking at every state &amp; county</a></span></li></ul></div>"
   ]
  },
  {
   "cell_type": "markdown",
   "metadata": {},
   "source": [
    "Note that this code has not been tested and won't work out of the box. But anyways, enjoy! 😄"
   ]
  },
  {
   "cell_type": "markdown",
   "metadata": {},
   "source": [
    "# Pick a specific state (CA)\n"
   ]
  },
  {
   "cell_type": "markdown",
   "metadata": {},
   "source": [
    "We choose a specific state and build a dictionary to keep that county info `county_dict` as well as a dictionary of all zip codes (within that specific state) `zip_dict`"
   ]
  },
  {
   "cell_type": "code",
   "execution_count": null,
   "metadata": {},
   "outputs": [],
   "source": [
    "# We're only considering California here\n",
    "df_ca = df[df.state == 'CA']\n",
    "\n",
    "# Dictionary to include all zip code time series in CA (no county reference)\n",
    "zip_dict = {}\n",
    "\n",
    "# Dictionary of dictionaries\n",
    "county_dict = {}\n",
    "\n",
    "# Itreate over all California counties\n",
    "for c in df_ca.county.unique():\n",
    "    # Choose a specific county (wihtin California)\n",
    "    df_ca_county = df_ca[df_ca.county == c]\n",
    "    # Note we could keep all the aggregated info for a county w/ 1 time series\n",
    "    # county_dict_aggregated[c] = melt_data(df_ca_county)\n",
    "    \n",
    "    # Create a dictionary that will have time series for each counties' zip\n",
    "    # Looks something like this:\n",
    "    # {\n",
    "    #   '94509': time_series_0,\n",
    "    #   '94531': time_series_1,\n",
    "    #    ... \n",
    "    # }\n",
    "    temp_dict_zip = {}\n",
    "    \n",
    "    # Now iterate over all the zip codes within that one county\n",
    "    for z in df_ca_county.zip_code.unique():\n",
    "        # Choosing that specific zip code\n",
    "        temp_zip_df = df_ca_county[df_ca_county.zip_code == z]\n",
    "        \n",
    "        # Creating a time series (via melting) for that zip code\n",
    "        temp_zip_ts = melt_data(temp_zip_df)\n",
    "        \n",
    "        # This will eventually include all the zip codes in the state\n",
    "        zip_dict[z] = temp_zip_ts\n",
    "        \n",
    "        # Adding that time series to a dictionary \n",
    "        # (This will only include time series from zip codes in the county)\n",
    "        temp_dict_zip[z] = temp_zip_ts\n",
    "        \n",
    "    # After iterating over all the zip codes in the county, save the dict of\n",
    "    # zip code time series as a value \n",
    "    county_dict[c] = temp_dict_zip"
   ]
  },
  {
   "cell_type": "code",
   "execution_count": null,
   "metadata": {},
   "outputs": [],
   "source": [
    "# Dictionary of Dictonaries to get zip code time series\n",
    "ts_94520 = county_dict['Contra Costa County']['94520']"
   ]
  },
  {
   "cell_type": "code",
   "execution_count": null,
   "metadata": {},
   "outputs": [],
   "source": [
    "# Alternative lookup\n",
    "contra_costa_dict = county_dict['Contra Costa County']\n",
    "ts_94520 = contra_costa_dict['94520']"
   ]
  },
  {
   "cell_type": "markdown",
   "metadata": {},
   "source": [
    "# Looking at every state & county"
   ]
  },
  {
   "cell_type": "markdown",
   "metadata": {},
   "source": [
    "Note I clean this code up since it doesn't require us to make a DataFrame for each county (or state). We only need a DataFrame for the zip code when we create a time series through melting. "
   ]
  },
  {
   "cell_type": "code",
   "execution_count": null,
   "metadata": {
    "code_folding": []
   },
   "outputs": [],
   "source": [
    "# All the zip codes (no state or county info)\n",
    "zip_dict = {}\n",
    "# All the states\n",
    "states_dict = {}\n",
    "\n",
    "# Iterate over all states in `df`\n",
    "for s in df.state.unique():\n",
    "    df_state = df[df.state == s]\n",
    "    county_dict = {}    \n",
    "    \n",
    "    # Itreate over all state's counties\n",
    "    for c in df_state.county.unique():\n",
    "        # Choose a specific county (wihtin California)\n",
    "        df_state_county = df_state[df_state.county == c]\n",
    "\n",
    "        # Create a dictionary that will have time series for each counties' zip\n",
    "        # Looks something like this:\n",
    "        # {\n",
    "        #   '94509': time_series_0,\n",
    "        #   '94531': time_series_1,\n",
    "        #    ... \n",
    "        # }\n",
    "        temp_dict_zip = {}\n",
    "\n",
    "        # Now iterate over all the zip codes within that one county\n",
    "        for z in df_state.zip_code.unique():\n",
    "            # Choosing that specific zip code\n",
    "            temp_zip_df = df_state_county[df_state_county.zip_code == z]\n",
    "            # Creating a time series (via melting) for that zip code\n",
    "            temp_zip_ts = melt_data(temp_zip_df)\n",
    "            # This will include all the zip codes in `df`\n",
    "            zip_dict[z] = temp_zip_ts\n",
    "            # Adding that time series to a dictionary \n",
    "            # (This will only include time series from zip codes in the county)\n",
    "            temp_dict_zip[z] = temp_zip_ts\n",
    "\n",
    "        # After iterating over all the zip codes in the county, save the dict of\n",
    "        # zip code time series as a value \n",
    "        county_dict[c] = temp_dict_zip\n",
    "    \n",
    "    # After iterating over all the counties in the state, save the dict of\n",
    "    # counties (each containing a dict of zip code time series)\n",
    "    states_dict[s] = county_dict"
   ]
  },
  {
   "cell_type": "code",
   "execution_count": null,
   "metadata": {},
   "outputs": [],
   "source": [
    "# To access data\n",
    "states_dict['CA']['Contra Costa County']['94520']"
   ]
  },
  {
   "cell_type": "code",
   "execution_count": null,
   "metadata": {},
   "outputs": [],
   "source": [
    "# Or just by zip code\n",
    "zip_dict['94520']"
   ]
  }
 ],
 "metadata": {
  "kernelspec": {
   "display_name": "Python 3",
   "language": "python",
   "name": "python3"
  },
  "language_info": {
   "codemirror_mode": {
    "name": "ipython",
    "version": 3
   },
   "file_extension": ".py",
   "mimetype": "text/x-python",
   "name": "python",
   "nbconvert_exporter": "python",
   "pygments_lexer": "ipython3",
   "version": "3.7.3"
  },
  "toc": {
   "base_numbering": 1,
   "nav_menu": {},
   "number_sections": true,
   "sideBar": true,
   "skip_h1_title": false,
   "title_cell": "Table of Contents",
   "title_sidebar": "Contents",
   "toc_cell": true,
   "toc_position": {},
   "toc_section_display": true,
   "toc_window_display": true
  },
  "varInspector": {
   "cols": {
    "lenName": 16,
    "lenType": 16,
    "lenVar": 40
   },
   "kernels_config": {
    "python": {
     "delete_cmd_postfix": "",
     "delete_cmd_prefix": "del ",
     "library": "var_list.py",
     "varRefreshCmd": "print(var_dic_list())"
    },
    "r": {
     "delete_cmd_postfix": ") ",
     "delete_cmd_prefix": "rm(",
     "library": "var_list.r",
     "varRefreshCmd": "cat(var_dic_list()) "
    }
   },
   "types_to_exclude": [
    "module",
    "function",
    "builtin_function_or_method",
    "instance",
    "_Feature"
   ],
   "window_display": false
  }
 },
 "nbformat": 4,
 "nbformat_minor": 2
}
